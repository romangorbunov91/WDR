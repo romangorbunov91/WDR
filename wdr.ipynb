{
 "cells": [
  {
   "cell_type": "code",
   "execution_count": 1,
   "id": "ebf3f982",
   "metadata": {},
   "outputs": [],
   "source": [
    "import numpy as np\n",
    "from Functions.combine_matrices import combine_matrices\n",
    "from Functions.encode import encode"
   ]
  },
  {
   "cell_type": "markdown",
   "id": "d9ae6d4e",
   "metadata": {},
   "source": [
    "Wavelets Transform"
   ]
  },
  {
   "cell_type": "code",
   "execution_count": 2,
   "id": "e605a7d2",
   "metadata": {},
   "outputs": [
    {
     "data": {
      "text/plain": [
       "array([[ 14,  28,   7,   4,   4,   6,   8,   6],\n",
       "       [ 22,  24,   9,  10,  -2,  -3,  -4,  -2],\n",
       "       [-10,   8,   6,   8,  -4,  -5,  -6,  -5],\n",
       "       [ -9,  11,   7,   4,   3,   4,   6,   5],\n",
       "       [ 10,  -5,   4,   7,   2,   4,   2,   6],\n",
       "       [  9,  -7,   6,   8,   1,   3,  -2,  -4],\n",
       "       [  9,  -6,   5,  10,   3,  -2,  -6,  -8],\n",
       "       [  8,  -5,   8,   9,   2,   3,  -1,  -2]])"
      ]
     },
     "metadata": {},
     "output_type": "display_data"
    }
   ],
   "source": [
    "cA2 = [[14, 28],\n",
    "       [22, 24]]\n",
    "cH2 = [[7, 4],\n",
    "       [9, 10]]\n",
    "cV2 = [[-10, 8],\n",
    "       [-9, 11]]\n",
    "cD2 = [[6, 8],\n",
    "       [7, 4]]\n",
    "\n",
    "cA1 = combine_matrices(cA2, cH2, cV2, cD2)\n",
    "cH1 = [[4, 6, 8, 6],\n",
    "       [-2, -3, -4, -2],\n",
    "       [-4, -5, -6, -5],\n",
    "       [3, 4, 6, 5]]\n",
    "cV1 = [[10, -5, 4, 7],\n",
    "       [9, -7, 6, 8],\n",
    "       [9, -6, 5, 10],\n",
    "       [8, -5, 8, 9]]\n",
    "cD1 = [[2, 4, 2, 6],\n",
    "       [1, 3, -2, -4],\n",
    "       [3, -2, -6, -8],\n",
    "       [2, 3, -1, -2]]\n",
    "\n",
    "f = combine_matrices(cA1, cH1, cV1, cD1)\n",
    "\n",
    "display(f)"
   ]
  },
  {
   "cell_type": "markdown",
   "id": "a09fc94c",
   "metadata": {},
   "source": [
    "Scan order"
   ]
  },
  {
   "cell_type": "code",
   "execution_count": 3,
   "id": "267de342",
   "metadata": {},
   "outputs": [
    {
     "data": {
      "text/plain": [
       "array([[ 2,  4,  8,  7, 32, 31, 30, 29],\n",
       "       [ 1,  3,  5,  6, 25, 26, 27, 28],\n",
       "       [ 9, 12, 14, 16, 24, 23, 22, 21],\n",
       "       [10, 11, 13, 15, 17, 18, 19, 20],\n",
       "       [36, 37, 44, 45, 55, 61, 62, 64],\n",
       "       [35, 38, 43, 46, 54, 56, 60, 63],\n",
       "       [34, 39, 42, 47, 50, 53, 57, 59],\n",
       "       [33, 40, 41, 48, 49, 51, 52, 58]])"
      ]
     },
     "metadata": {},
     "output_type": "display_data"
    }
   ],
   "source": [
    "cA2 = [[2, 4],\n",
    "       [1, 3]]\n",
    "cH2 = [[8 ,7],\n",
    "       [5, 6]]\n",
    "cV2 = [[9, 12],\n",
    "       [10, 11]]\n",
    "cD2 = [[14, 16],\n",
    "       [13, 15]]\n",
    "cA1 = combine_matrices(cA2, cH2, cV2, cD2)\n",
    "cH1 = [[32, 31, 30, 29],\n",
    "      [25, 26, 27, 28],\n",
    "      [24, 23, 22, 21],\n",
    "      [17, 18, 19, 20]]\n",
    "\n",
    "cV1 = [[36, 37, 44, 45],\n",
    "      [35, 38, 43, 46],\n",
    "      [34, 39, 42, 47],\n",
    "      [33, 40, 41, 48]]\n",
    "\n",
    "cD1 = [[55, 61, 62, 64],\n",
    "      [54, 56, 60, 63],\n",
    "      [50, 53, 57, 59],\n",
    "      [49, 51, 52, 58]]\n",
    "\n",
    "scan_order = combine_matrices(cA1, cH1, cV1, cD1)\n",
    "\n",
    "display(scan_order)"
   ]
  },
  {
   "cell_type": "markdown",
   "id": "eae7cfa0",
   "metadata": {},
   "source": [
    "Преобразуем матрицу в последовательность координат"
   ]
  },
  {
   "cell_type": "code",
   "execution_count": 4,
   "id": "071740b8",
   "metadata": {},
   "outputs": [],
   "source": [
    "_, indx_array = np.unique(scan_order, return_index=True)\n",
    "rows, cols = np.unravel_index(indx_array, f.shape)\n",
    "indx_order = []\n",
    "for r, c in zip(rows,cols):\n",
    "    indx_order.append((r,c))"
   ]
  },
  {
   "cell_type": "markdown",
   "id": "bed4c680",
   "metadata": {},
   "source": [
    "Проверка"
   ]
  },
  {
   "cell_type": "code",
   "execution_count": 5,
   "id": "252ea6e4",
   "metadata": {},
   "outputs": [
    {
     "name": "stdout",
     "output_type": "stream",
     "text": [
      "(1, 0): 1\n",
      "(0, 0): 2\n",
      "(1, 1): 3\n",
      "(0, 1): 4\n",
      "(1, 2): 5\n",
      "(1, 3): 6\n",
      "(0, 3): 7\n",
      "(0, 2): 8\n",
      "(2, 0): 9\n",
      "(3, 0): 10\n",
      "(3, 1): 11\n",
      "(2, 1): 12\n",
      "(3, 2): 13\n",
      "(2, 2): 14\n",
      "(3, 3): 15\n",
      "(2, 3): 16\n",
      "(3, 4): 17\n",
      "(3, 5): 18\n",
      "(3, 6): 19\n",
      "(3, 7): 20\n",
      "(2, 7): 21\n",
      "(2, 6): 22\n",
      "(2, 5): 23\n",
      "(2, 4): 24\n",
      "(1, 4): 25\n",
      "(1, 5): 26\n",
      "(1, 6): 27\n",
      "(1, 7): 28\n",
      "(0, 7): 29\n",
      "(0, 6): 30\n",
      "(0, 5): 31\n",
      "(0, 4): 32\n",
      "(7, 0): 33\n",
      "(6, 0): 34\n",
      "(5, 0): 35\n",
      "(4, 0): 36\n",
      "(4, 1): 37\n",
      "(5, 1): 38\n",
      "(6, 1): 39\n",
      "(7, 1): 40\n",
      "(7, 2): 41\n",
      "(6, 2): 42\n",
      "(5, 2): 43\n",
      "(4, 2): 44\n",
      "(4, 3): 45\n",
      "(5, 3): 46\n",
      "(6, 3): 47\n",
      "(7, 3): 48\n",
      "(7, 4): 49\n",
      "(6, 4): 50\n",
      "(7, 5): 51\n",
      "(7, 6): 52\n",
      "(6, 5): 53\n",
      "(5, 4): 54\n",
      "(4, 4): 55\n",
      "(5, 5): 56\n",
      "(6, 6): 57\n",
      "(7, 7): 58\n",
      "(6, 7): 59\n",
      "(5, 6): 60\n",
      "(4, 5): 61\n",
      "(4, 6): 62\n",
      "(5, 7): 63\n",
      "(4, 7): 64\n"
     ]
    }
   ],
   "source": [
    "for idx in indx_order:   \n",
    "    print(f\"{idx}: {scan_order[idx]}\")"
   ]
  },
  {
   "cell_type": "markdown",
   "id": "fc92505b",
   "metadata": {},
   "source": [
    "# Bit-plane Encoding Procedure"
   ]
  },
  {
   "cell_type": "code",
   "execution_count": 6,
   "id": "70ad62a2",
   "metadata": {},
   "outputs": [
    {
     "data": {
      "text/plain": [
       "array([[ 0, 16,  0,  0,  0,  0,  0,  0],\n",
       "       [16, 16,  0,  0,  0,  0,  0,  0],\n",
       "       [ 0,  0,  0,  0,  0,  0,  0,  0],\n",
       "       [ 0,  0,  0,  0,  0,  0,  0,  0],\n",
       "       [ 0,  0,  0,  0,  0,  0,  0,  0],\n",
       "       [ 0,  0,  0,  0,  0,  0,  0,  0],\n",
       "       [ 0,  0,  0,  0,  0,  0,  0,  0],\n",
       "       [ 0,  0,  0,  0,  0,  0,  0,  0]])"
      ]
     },
     "metadata": {},
     "output_type": "display_data"
    },
    {
     "data": {
      "text/plain": [
       "array([[ 8, 24,  0,  0,  0,  0,  8,  0],\n",
       "       [16, 24,  8,  8,  0,  0,  0,  0],\n",
       "       [-8,  8,  0,  8,  0,  0,  0,  0],\n",
       "       [-8,  8,  0,  0,  0,  0,  0,  0],\n",
       "       [ 8,  0,  0,  0,  0,  0,  0,  0],\n",
       "       [ 8,  0,  0,  8,  0,  0,  0,  0],\n",
       "       [ 8,  0,  0,  8,  0,  0,  0, -8],\n",
       "       [ 8,  0,  8,  8,  0,  0,  0,  0]])"
      ]
     },
     "metadata": {},
     "output_type": "display_data"
    },
    {
     "data": {
      "text/plain": [
       "array([[12, 28,  4,  4,  4,  4,  8,  4],\n",
       "       [20, 24,  8,  8,  0,  0, -4,  0],\n",
       "       [-8,  8,  4,  8, -4, -4, -4, -4],\n",
       "       [-8,  8,  4,  4,  0,  4,  4,  4],\n",
       "       [ 8, -4,  4,  4,  0,  4,  0,  4],\n",
       "       [ 8, -4,  4,  8,  0,  0,  0, -4],\n",
       "       [ 8, -4,  4,  8,  0,  0, -4, -8],\n",
       "       [ 8, -4,  8,  8,  0,  0,  0,  0]])"
      ]
     },
     "metadata": {},
     "output_type": "display_data"
    },
    {
     "data": {
      "text/plain": [
       "array([[ 14,  28,   6,   4,   4,   6,   8,   6],\n",
       "       [ 22,  24,   8,  10,  -2,  -2,  -4,  -2],\n",
       "       [-10,   8,   6,   8,  -4,  -4,  -6,  -4],\n",
       "       [ -8,  10,   6,   4,   2,   4,   6,   4],\n",
       "       [ 10,  -4,   4,   6,   2,   4,   2,   6],\n",
       "       [  8,  -6,   6,   8,   0,   2,  -2,  -4],\n",
       "       [  8,  -6,   4,  10,   2,  -2,  -6,  -8],\n",
       "       [  8,  -4,   8,   8,   2,   2,   0,  -2]])"
      ]
     },
     "metadata": {},
     "output_type": "display_data"
    },
    {
     "data": {
      "text/plain": [
       "array([[ 14,  28,   7,   4,   4,   6,   8,   6],\n",
       "       [ 22,  24,   9,  10,  -2,  -3,  -4,  -2],\n",
       "       [-10,   8,   6,   8,  -4,  -5,  -6,  -5],\n",
       "       [ -9,  11,   7,   4,   3,   4,   6,   5],\n",
       "       [ 10,  -5,   4,   7,   2,   4,   2,   6],\n",
       "       [  9,  -7,   6,   8,   1,   3,  -2,  -4],\n",
       "       [  9,  -6,   5,  10,   3,  -2,  -6,  -8],\n",
       "       [  8,  -5,   8,   9,   2,   3,  -1,  -2]])"
      ]
     },
     "metadata": {},
     "output_type": "display_data"
    },
    {
     "name": "stdout",
     "output_type": "stream",
     "text": [
      "MSE: [42.297 15.797  3.047  0.359  0.   ]\n"
     ]
    }
   ],
   "source": [
    "threshold = [16, 8, 4, 2, 1]\n",
    "K = len(threshold)\n",
    "st_arr = np.empty(K, dtype='object')\n",
    "mse_err = []\n",
    "for k in range(K):\n",
    "    st_arr[k] = f.copy()\n",
    "    for idx in indx_order:\n",
    "        # Stage 1: Significance Pass only.\n",
    "        if k == 0:\n",
    "            if np.abs(st_arr[k][idx]) >= threshold[k]:\n",
    "                st_arr[k][idx] = np.sign(st_arr[k][idx])*threshold[k]\n",
    "            else:\n",
    "                st_arr[k][idx] = 0\n",
    "        # Stage >1: Both Significance Pass and Refinement Pass.\n",
    "        else:\n",
    "            if np.abs(st_arr[k][idx]) >= (np.abs(st_arr[k-1][idx]) + threshold[k]):\n",
    "                st_arr[k][idx] = st_arr[k-1][idx] + np.sign(st_arr[k][idx])*threshold[k]\n",
    "            else:\n",
    "                st_arr[k][idx] = st_arr[k-1][idx]\n",
    "    mse_err.append(np.square(f - st_arr[k]).mean())\n",
    "for k in range(K):\n",
    "    display(st_arr[k])\n",
    "print('MSE:', np.round(mse_err,3))"
   ]
  },
  {
   "cell_type": "markdown",
   "id": "93a098f1",
   "metadata": {},
   "source": [
    "К преобразованию с threshold = 4 добавляем половину порогового уровня (с учетом знака)."
   ]
  },
  {
   "cell_type": "code",
   "execution_count": 7,
   "id": "febad1e0",
   "metadata": {},
   "outputs": [
    {
     "data": {
      "text/plain": [
       "array([[ 14,  30,   6,   6,   6,   6,  10,   6],\n",
       "       [ 22,  26,  10,  10,   0,   0,  -6,   0],\n",
       "       [-10,  10,   6,  10,  -6,  -6,  -6,  -6],\n",
       "       [-10,  10,   6,   6,   0,   6,   6,   6],\n",
       "       [ 10,  -6,   6,   6,   0,   6,   0,   6],\n",
       "       [ 10,  -6,   6,  10,   0,   0,   0,  -6],\n",
       "       [ 10,  -6,   6,  10,   0,   0,  -6, -10],\n",
       "       [ 10,  -6,  10,  10,   0,   0,   0,   0]])"
      ]
     },
     "metadata": {},
     "output_type": "display_data"
    },
    {
     "name": "stdout",
     "output_type": "stream",
     "text": [
      "Threshold = 4 MSE: 3.047\n",
      "Half-thresh.  MSE: 2.609\n"
     ]
    }
   ],
   "source": [
    "ht_st_arr = f.copy()\n",
    "for idx in indx_order:\n",
    "    ht_st_arr[idx] = st_arr[2][idx] + np.sign(st_arr[2][idx])*threshold[2]//2\n",
    "display(ht_st_arr)\n",
    "print('Threshold = 4 MSE:', np.round(np.square(f - st_arr[2]).mean(),3))\n",
    "print('Half-thresh.  MSE:', np.round(np.square(f - ht_st_arr).mean(),3))"
   ]
  },
  {
   "cell_type": "markdown",
   "id": "37a28f27",
   "metadata": {},
   "source": [
    "Remember to transmit:\n",
    "- initial threshold value ${T_0}$,\n",
    "- information on the dimensions of the image,\n",
    "- how many levels of transform were computed."
   ]
  },
  {
   "cell_type": "code",
   "execution_count": 8,
   "id": "0d705cf3",
   "metadata": {},
   "outputs": [],
   "source": [
    "encoded_img = {\n",
    "    'initial threshold': 32,\n",
    "    'dimensions': 8*8,\n",
    "    'transform lvl': 2}"
   ]
  },
  {
   "cell_type": "code",
   "execution_count": 9,
   "id": "73ed188b",
   "metadata": {},
   "outputs": [
    {
     "name": "stdout",
     "output_type": "stream",
     "text": [
      "+++-1-+++00+110+1++++01+01++-011+10+\n",
      "The number of old significant bits: 3\n"
     ]
    }
   ],
   "source": [
    "pos = 0\n",
    "pos_prev = 0\n",
    "encoded_line = str()\n",
    "for idx in indx_order:\n",
    "    if (abs(st_arr[2][idx]) >= threshold[1]):\n",
    "        if (abs(st_arr[2][idx]) < threshold[0]):\n",
    "            encoded_line += encode(np.sign(st_arr[2][idx])*(scan_order[idx] - pos))\n",
    "        else:\n",
    "            pos_prev += 1\n",
    "        pos = scan_order[idx].copy()\n",
    "        #print(st_arr[2][idx])\n",
    "        #print(scan_order[idx] - pos)\n",
    "        #print(encoded_line)\n",
    "        \n",
    "# The number of steps to the last position in the scan order plus 1.\n",
    "encoded_line += encode(scan_order[indx_order[-1]] + 1 - pos)\n",
    "# A plus sign is attached to mark the end of the bits for the last binary expansion.\n",
    "encoded_line += '+'\n",
    "print(encoded_line)\n",
    "\n",
    "# At the end of the refinement pass we would have encoded the bits indicating whether refinements are needed for the old significant values.\n",
    "print('The number of old significant bits:', pos_prev)"
   ]
  },
  {
   "cell_type": "code",
   "execution_count": 10,
   "id": "a98370b8",
   "metadata": {},
   "outputs": [
    {
     "name": "stdout",
     "output_type": "stream",
     "text": [
      "JSON file created successfully.\n"
     ]
    }
   ],
   "source": [
    "import json\n",
    "\n",
    "# Write the data to a JSON file\n",
    "with open(\"encoded_img.json\", \"w\") as json_file:\n",
    "    json.dump(encoded_img, json_file, indent=4)\n",
    "\n",
    "print(\"JSON file created successfully.\")"
   ]
  },
  {
   "cell_type": "code",
   "execution_count": 11,
   "id": "f458219a",
   "metadata": {},
   "outputs": [
    {
     "name": "stdout",
     "output_type": "stream",
     "text": [
      "{'initial threshold': 32, 'dimensions': 64, 'transform lvl': 2}\n"
     ]
    }
   ],
   "source": [
    "with open(\"encoded_img.json\", \"r\") as json_file:\n",
    "    data = json.load(json_file)\n",
    "print(data)"
   ]
  },
  {
   "cell_type": "code",
   "execution_count": 12,
   "id": "eb0391d0",
   "metadata": {},
   "outputs": [],
   "source": [
    "Nrow = 8\n",
    "Ncol = 10\n",
    "\n",
    "g = np.random.randint(low=-10, high=11, size=Nrow*Ncol).reshape(Nrow,Ncol)"
   ]
  },
  {
   "cell_type": "code",
   "execution_count": 13,
   "id": "1db4f44d",
   "metadata": {},
   "outputs": [],
   "source": [
    "from Functions.scanorder import zigzag_order\n",
    "from Functions.scanorder import horizont_order"
   ]
  },
  {
   "cell_type": "code",
   "execution_count": 14,
   "id": "f60e8aa6",
   "metadata": {},
   "outputs": [
    {
     "name": "stdout",
     "output_type": "stream",
     "text": [
      "[[35 36 46 47 53 54 56]\n",
      " [22 34 37 45 48 52 55]\n",
      " [21 23 33 38 44 49 51]\n",
      " [11 20 24 32 39 43 50]\n",
      " [10 12 19 25 31 40 42]\n",
      " [ 4  9 13 18 26 30 41]\n",
      " [ 3  5  8 14 17 27 29]\n",
      " [ 1  2  6  7 15 16 28]]\n"
     ]
    }
   ],
   "source": [
    "print(zigzag_order(8, 7, LH_to_RL=True))"
   ]
  },
  {
   "cell_type": "code",
   "execution_count": 15,
   "id": "d0850391",
   "metadata": {},
   "outputs": [
    {
     "ename": "ValueError",
     "evalue": "Roman: Index exceeds number of rows",
     "output_type": "error",
     "traceback": [
      "\u001b[1;31m---------------------------------------------------------------------------\u001b[0m",
      "\u001b[1;31mValueError\u001b[0m                                Traceback (most recent call last)",
      "Cell \u001b[1;32mIn [15], line 1\u001b[0m\n\u001b[1;32m----> 1\u001b[0m \u001b[38;5;28mprint\u001b[39m(\u001b[43mhorizont_order\u001b[49m\u001b[43m(\u001b[49m\u001b[38;5;241;43m8\u001b[39;49m\u001b[43m,\u001b[49m\u001b[43m \u001b[49m\u001b[38;5;241;43m7\u001b[39;49m\u001b[43m,\u001b[49m\u001b[43m \u001b[49m\u001b[43mL_to_R\u001b[49m\u001b[38;5;241;43m=\u001b[39;49m\u001b[38;5;28;43;01mTrue\u001b[39;49;00m\u001b[43m)\u001b[49m)\n",
      "File \u001b[1;32md:\\git\\ITMO\\Wavelets\\WDR\\Functions\\scanorder.py:68\u001b[0m, in \u001b[0;36mhorizont_order\u001b[1;34m(Nrow, Ncol, L_to_R)\u001b[0m\n\u001b[0;32m     65\u001b[0m     L_to_R \u001b[38;5;241m^\u001b[39m\u001b[38;5;241m=\u001b[39m \u001b[38;5;28;01mTrue\u001b[39;00m  \u001b[38;5;66;03m# XOR with True flips the value\u001b[39;00m\n\u001b[0;32m     67\u001b[0m \u001b[38;5;28;01mif\u001b[39;00m n \u001b[38;5;241m<\u001b[39m \u001b[38;5;241m0\u001b[39m:\n\u001b[1;32m---> 68\u001b[0m     \u001b[38;5;28;01mraise\u001b[39;00m \u001b[38;5;167;01mValueError\u001b[39;00m(\u001b[38;5;124m\"\u001b[39m\u001b[38;5;124mRoman: Index exceeds number of rows\u001b[39m\u001b[38;5;124m\"\u001b[39m)\n\u001b[0;32m     70\u001b[0m counter \u001b[38;5;241m+\u001b[39m\u001b[38;5;241m=\u001b[39m \u001b[38;5;241m1\u001b[39m\n\u001b[0;32m     71\u001b[0m s[n,m] \u001b[38;5;241m=\u001b[39m counter\n",
      "\u001b[1;31mValueError\u001b[0m: Roman: Index exceeds number of rows"
     ]
    }
   ],
   "source": [
    "print(horizont_order(8, 7, L_to_R=True))"
   ]
  }
 ],
 "metadata": {
  "kernelspec": {
   "display_name": "Python 3",
   "language": "python",
   "name": "python3"
  },
  "language_info": {
   "codemirror_mode": {
    "name": "ipython",
    "version": 3
   },
   "file_extension": ".py",
   "mimetype": "text/x-python",
   "name": "python",
   "nbconvert_exporter": "python",
   "pygments_lexer": "ipython3",
   "version": "3.11.0"
  }
 },
 "nbformat": 4,
 "nbformat_minor": 5
}
